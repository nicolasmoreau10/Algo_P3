{
 "cells": [
  {
   "cell_type": "code",
   "execution_count": 32,
   "metadata": {},
   "outputs": [],
   "source": [
    "import pandas as pd\n",
    "\n",
    "\n",
    "df = pd.read_csv(\"E:\\\\FORMATION WCS\\\\PROJETS\\PROJET3\\\\tennis_atp-master\\\\ATP_MASTER_tennis_single_depuis_1991_testalgo.csv\", encoding='utf8', delimiter=',', low_memory=False)\n",
    "df = df.iloc[:50000]\n",
    "data = df"
   ]
  },
  {
   "cell_type": "code",
   "execution_count": 31,
   "metadata": {},
   "outputs": [
    {
     "data": {
      "text/html": [
       "<div>\n",
       "<style scoped>\n",
       "    .dataframe tbody tr th:only-of-type {\n",
       "        vertical-align: middle;\n",
       "    }\n",
       "\n",
       "    .dataframe tbody tr th {\n",
       "        vertical-align: top;\n",
       "    }\n",
       "\n",
       "    .dataframe thead th {\n",
       "        text-align: right;\n",
       "    }\n",
       "</style>\n",
       "<table border=\"1\" class=\"dataframe\">\n",
       "  <thead>\n",
       "    <tr style=\"text-align: right;\">\n",
       "      <th></th>\n",
       "      <th>tourney_id</th>\n",
       "      <th>tourney_name</th>\n",
       "      <th>surface</th>\n",
       "      <th>draw_size</th>\n",
       "      <th>tourney_level</th>\n",
       "      <th>tourney_date</th>\n",
       "      <th>match_num</th>\n",
       "      <th>score</th>\n",
       "      <th>best_of</th>\n",
       "      <th>round</th>\n",
       "      <th>...</th>\n",
       "      <th>player_2_rank</th>\n",
       "      <th>player_1_rank_points</th>\n",
       "      <th>player_2_rank_points</th>\n",
       "      <th>player_1_seed</th>\n",
       "      <th>player_2_seed</th>\n",
       "      <th>winner</th>\n",
       "      <th>players</th>\n",
       "      <th>target</th>\n",
       "      <th>surface_enc</th>\n",
       "      <th>tourney_level_enc</th>\n",
       "    </tr>\n",
       "  </thead>\n",
       "  <tbody>\n",
       "    <tr>\n",
       "      <th>0</th>\n",
       "      <td>1991-339</td>\n",
       "      <td>Adelaide</td>\n",
       "      <td>Hard</td>\n",
       "      <td>32</td>\n",
       "      <td>A</td>\n",
       "      <td>1990-12-31</td>\n",
       "      <td>1</td>\n",
       "      <td>6-4 3-6 7-6(2)</td>\n",
       "      <td>3</td>\n",
       "      <td>R32</td>\n",
       "      <td>...</td>\n",
       "      <td>56.0</td>\n",
       "      <td>891.847152</td>\n",
       "      <td>1422.612662</td>\n",
       "      <td>1.0</td>\n",
       "      <td>NaN</td>\n",
       "      <td>Magnus Larsson</td>\n",
       "      <td>('Boris Becker', 'Magnus Larsson')</td>\n",
       "      <td>player_2</td>\n",
       "      <td>3</td>\n",
       "      <td>0</td>\n",
       "    </tr>\n",
       "    <tr>\n",
       "      <th>1</th>\n",
       "      <td>1991-339</td>\n",
       "      <td>Adelaide</td>\n",
       "      <td>Hard</td>\n",
       "      <td>32</td>\n",
       "      <td>A</td>\n",
       "      <td>1990-12-31</td>\n",
       "      <td>2</td>\n",
       "      <td>6-3 3-6 7-6(6)</td>\n",
       "      <td>3</td>\n",
       "      <td>R32</td>\n",
       "      <td>...</td>\n",
       "      <td>304.0</td>\n",
       "      <td>891.847152</td>\n",
       "      <td>1422.612662</td>\n",
       "      <td>NaN</td>\n",
       "      <td>NaN</td>\n",
       "      <td>Slobodan Zivojinovic</td>\n",
       "      <td>('Mark Kratzmann', 'Slobodan Zivojinovic')</td>\n",
       "      <td>player_2</td>\n",
       "      <td>3</td>\n",
       "      <td>0</td>\n",
       "    </tr>\n",
       "    <tr>\n",
       "      <th>2</th>\n",
       "      <td>1991-339</td>\n",
       "      <td>Adelaide</td>\n",
       "      <td>Hard</td>\n",
       "      <td>32</td>\n",
       "      <td>A</td>\n",
       "      <td>1990-12-31</td>\n",
       "      <td>3</td>\n",
       "      <td>6-0 6-4</td>\n",
       "      <td>3</td>\n",
       "      <td>R32</td>\n",
       "      <td>...</td>\n",
       "      <td>69.0</td>\n",
       "      <td>1422.612662</td>\n",
       "      <td>891.847152</td>\n",
       "      <td>NaN</td>\n",
       "      <td>NaN</td>\n",
       "      <td>Patrik Kuhnen</td>\n",
       "      <td>('Patrik Kuhnen', 'Veli Paloheimo')</td>\n",
       "      <td>player_1</td>\n",
       "      <td>3</td>\n",
       "      <td>0</td>\n",
       "    </tr>\n",
       "    <tr>\n",
       "      <th>3</th>\n",
       "      <td>1991-339</td>\n",
       "      <td>Adelaide</td>\n",
       "      <td>Hard</td>\n",
       "      <td>32</td>\n",
       "      <td>A</td>\n",
       "      <td>1990-12-31</td>\n",
       "      <td>4</td>\n",
       "      <td>7-6(2) 6-1</td>\n",
       "      <td>3</td>\n",
       "      <td>R32</td>\n",
       "      <td>...</td>\n",
       "      <td>50.0</td>\n",
       "      <td>891.847152</td>\n",
       "      <td>1422.612662</td>\n",
       "      <td>NaN</td>\n",
       "      <td>8.0</td>\n",
       "      <td>Todd Woodbridge</td>\n",
       "      <td>('Guillaume Raoux', 'Todd Woodbridge')</td>\n",
       "      <td>player_2</td>\n",
       "      <td>3</td>\n",
       "      <td>0</td>\n",
       "    </tr>\n",
       "    <tr>\n",
       "      <th>4</th>\n",
       "      <td>1991-339</td>\n",
       "      <td>Adelaide</td>\n",
       "      <td>Hard</td>\n",
       "      <td>32</td>\n",
       "      <td>A</td>\n",
       "      <td>1990-12-31</td>\n",
       "      <td>5</td>\n",
       "      <td>7-5 6-3</td>\n",
       "      <td>3</td>\n",
       "      <td>R32</td>\n",
       "      <td>...</td>\n",
       "      <td>88.0</td>\n",
       "      <td>891.847152</td>\n",
       "      <td>1422.612662</td>\n",
       "      <td>4.0</td>\n",
       "      <td>NaN</td>\n",
       "      <td>Udo Riglewski</td>\n",
       "      <td>('Sergi Bruguera', 'Udo Riglewski')</td>\n",
       "      <td>player_2</td>\n",
       "      <td>3</td>\n",
       "      <td>0</td>\n",
       "    </tr>\n",
       "  </tbody>\n",
       "</table>\n",
       "<p>5 rows × 56 columns</p>\n",
       "</div>"
      ],
      "text/plain": [
       "  tourney_id tourney_name surface  draw_size tourney_level tourney_date  \\\n",
       "0   1991-339     Adelaide    Hard         32             A   1990-12-31   \n",
       "1   1991-339     Adelaide    Hard         32             A   1990-12-31   \n",
       "2   1991-339     Adelaide    Hard         32             A   1990-12-31   \n",
       "3   1991-339     Adelaide    Hard         32             A   1990-12-31   \n",
       "4   1991-339     Adelaide    Hard         32             A   1990-12-31   \n",
       "\n",
       "   match_num           score  best_of round  ...  player_2_rank  \\\n",
       "0          1  6-4 3-6 7-6(2)        3   R32  ...           56.0   \n",
       "1          2  6-3 3-6 7-6(6)        3   R32  ...          304.0   \n",
       "2          3         6-0 6-4        3   R32  ...           69.0   \n",
       "3          4      7-6(2) 6-1        3   R32  ...           50.0   \n",
       "4          5         7-5 6-3        3   R32  ...           88.0   \n",
       "\n",
       "   player_1_rank_points  player_2_rank_points  player_1_seed  player_2_seed  \\\n",
       "0            891.847152           1422.612662            1.0            NaN   \n",
       "1            891.847152           1422.612662            NaN            NaN   \n",
       "2           1422.612662            891.847152            NaN            NaN   \n",
       "3            891.847152           1422.612662            NaN            8.0   \n",
       "4            891.847152           1422.612662            4.0            NaN   \n",
       "\n",
       "                 winner                                     players    target  \\\n",
       "0        Magnus Larsson          ('Boris Becker', 'Magnus Larsson')  player_2   \n",
       "1  Slobodan Zivojinovic  ('Mark Kratzmann', 'Slobodan Zivojinovic')  player_2   \n",
       "2         Patrik Kuhnen         ('Patrik Kuhnen', 'Veli Paloheimo')  player_1   \n",
       "3       Todd Woodbridge      ('Guillaume Raoux', 'Todd Woodbridge')  player_2   \n",
       "4         Udo Riglewski         ('Sergi Bruguera', 'Udo Riglewski')  player_2   \n",
       "\n",
       "   surface_enc  tourney_level_enc  \n",
       "0            3                  0  \n",
       "1            3                  0  \n",
       "2            3                  0  \n",
       "3            3                  0  \n",
       "4            3                  0  \n",
       "\n",
       "[5 rows x 56 columns]"
      ]
     },
     "execution_count": 31,
     "metadata": {},
     "output_type": "execute_result"
    }
   ],
   "source": [
    "data.head()"
   ]
  },
  {
   "cell_type": "code",
   "execution_count": 143,
   "metadata": {},
   "outputs": [],
   "source": [
    "from sklearn.preprocessing import LabelEncoder, StandardScaler\n",
    "from sklearn.naive_bayes import GaussianNB\n",
    "from sklearn.preprocessing import StandardScaler\n",
    "from sklearn.metrics import accuracy_score, recall_score, f1_score\n",
    "import pandas as pd\n",
    "import numpy as np\n",
    "from sklearn.model_selection import train_test_split"
   ]
  },
  {
   "cell_type": "code",
   "execution_count": 144,
   "metadata": {},
   "outputs": [],
   "source": [
    "lencoder = LabelEncoder()\n",
    "\n",
    "data['surface_enc'] = lencoder.fit_transform(data['surface'])\n",
    "data['tourney_level_enc'] = lencoder.fit_transform(data['tourney_level'])\n",
    "data['player_1_enc'] = lencoder.fit_transform(data['player_1_name'])\n",
    "data['player_2_enc'] = lencoder.fit_transform(data['player_2_name'])"
   ]
  },
  {
   "cell_type": "code",
   "execution_count": 145,
   "metadata": {},
   "outputs": [],
   "source": [
    "# Features to be used in predictive models\n",
    "# Will try five different classification models:\n",
    "    # Gradient boosting\n",
    "    # Random forest\n",
    "    # Logistic regression\n",
    "    # Support vector machine\n",
    "    # Linear discriminant analysis\n",
    "\n",
    "X = data[['surface_enc', 'tourney_level_enc', 'player_1_enc', 'player_2_enc']]\n",
    "\n",
    "y = data['target']"
   ]
  },
  {
   "cell_type": "code",
   "execution_count": 161,
   "metadata": {},
   "outputs": [
    {
     "data": {
      "text/html": [
       "<div>\n",
       "<style scoped>\n",
       "    .dataframe tbody tr th:only-of-type {\n",
       "        vertical-align: middle;\n",
       "    }\n",
       "\n",
       "    .dataframe tbody tr th {\n",
       "        vertical-align: top;\n",
       "    }\n",
       "\n",
       "    .dataframe thead th {\n",
       "        text-align: right;\n",
       "    }\n",
       "</style>\n",
       "<table border=\"1\" class=\"dataframe\">\n",
       "  <thead>\n",
       "    <tr style=\"text-align: right;\">\n",
       "      <th></th>\n",
       "      <th>surface_enc</th>\n",
       "      <th>tourney_level_enc</th>\n",
       "      <th>player_1_enc</th>\n",
       "      <th>player_2_enc</th>\n",
       "      <th>winner</th>\n",
       "      <th>players</th>\n",
       "    </tr>\n",
       "  </thead>\n",
       "  <tbody>\n",
       "    <tr>\n",
       "      <th>1481</th>\n",
       "      <td>1</td>\n",
       "      <td>1</td>\n",
       "      <td>1</td>\n",
       "      <td>513</td>\n",
       "      <td>Abdelhak Hameurlaine</td>\n",
       "      <td>('Abdelhak Hameurlaine', 'Jean Nabi')</td>\n",
       "    </tr>\n",
       "    <tr>\n",
       "      <th>9055</th>\n",
       "      <td>1</td>\n",
       "      <td>1</td>\n",
       "      <td>1</td>\n",
       "      <td>1124</td>\n",
       "      <td>Abdelhak Hameurlaine</td>\n",
       "      <td>('Abdelhak Hameurlaine', 'Phillipe Ventura')</td>\n",
       "    </tr>\n",
       "  </tbody>\n",
       "</table>\n",
       "</div>"
      ],
      "text/plain": [
       "      surface_enc  tourney_level_enc  player_1_enc  player_2_enc  \\\n",
       "1481            1                  1             1           513   \n",
       "9055            1                  1             1          1124   \n",
       "\n",
       "                    winner                                       players  \n",
       "1481  Abdelhak Hameurlaine         ('Abdelhak Hameurlaine', 'Jean Nabi')  \n",
       "9055  Abdelhak Hameurlaine  ('Abdelhak Hameurlaine', 'Phillipe Ventura')  "
      ]
     },
     "execution_count": 161,
     "metadata": {},
     "output_type": "execute_result"
    }
   ],
   "source": [
    "data[['surface_enc', 'tourney_level_enc', 'player_1_enc', 'player_2_enc', 'winner', 'players']][data['winner'] == 'Abdelhak Hameurlaine']"
   ]
  },
  {
   "cell_type": "code",
   "execution_count": 162,
   "metadata": {},
   "outputs": [
    {
     "data": {
      "text/plain": [
       "winner\n",
       "Abdelhak Hameurlaine    2\n",
       "Name: surface_enc, dtype: int64"
      ]
     },
     "execution_count": 162,
     "metadata": {},
     "output_type": "execute_result"
    }
   ],
   "source": [
    "data[data['winner'] == 'Abdelhak Hameurlaine'].groupby('winner')['surface_enc'].count()"
   ]
  },
  {
   "cell_type": "code",
   "execution_count": 168,
   "metadata": {},
   "outputs": [
    {
     "data": {
      "text/plain": [
       "winner\n",
       "Phillipe Ventura    1\n",
       "Name: surface_enc, dtype: int64"
      ]
     },
     "execution_count": 168,
     "metadata": {},
     "output_type": "execute_result"
    }
   ],
   "source": [
    "data[data['winner'] == 'Phillipe Ventura'].groupby('winner')['surface_enc'].count()"
   ]
  },
  {
   "cell_type": "code",
   "execution_count": 160,
   "metadata": {},
   "outputs": [
    {
     "data": {
      "text/plain": [
       "winner\n",
       "Aaron Krickstein        134\n",
       "Abdelhak Hameurlaine      2\n",
       "Abou Berthe               1\n",
       "Adam Malik               11\n",
       "Adam Skrzypczak           3\n",
       "                       ... \n",
       "Zack Fleishman            2\n",
       "Zeljko Krajan             9\n",
       "Zeljko Tosic              1\n",
       "Zoran Sevcenko            2\n",
       "Zulfiqar Ahmed            2\n",
       "Name: surface_enc, Length: 1321, dtype: int64"
      ]
     },
     "execution_count": 160,
     "metadata": {},
     "output_type": "execute_result"
    }
   ],
   "source": [
    "data.groupby('winner')['surface_enc'].count()"
   ]
  },
  {
   "cell_type": "code",
   "execution_count": 147,
   "metadata": {},
   "outputs": [],
   "source": [
    "X_train, X_test, y_train, y_test = train_test_split(X, y, test_size=0.25, random_state=42)"
   ]
  },
  {
   "cell_type": "code",
   "execution_count": 148,
   "metadata": {},
   "outputs": [],
   "source": [
    "scaler = StandardScaler()\n",
    "X_train = scaler.fit_transform(X_train)\n",
    "X_test = scaler.transform(X_test)"
   ]
  },
  {
   "cell_type": "code",
   "execution_count": 149,
   "metadata": {},
   "outputs": [],
   "source": [
    "from sklearn.linear_model import LogisticRegression\n",
    "\n",
    "model = LogisticRegression(C = 0.1, penalty= 'l2', solver= 'liblinear').fit(X_train,y_train)"
   ]
  },
  {
   "cell_type": "code",
   "execution_count": 169,
   "metadata": {},
   "outputs": [
    {
     "name": "stdout",
     "output_type": "stream",
     "text": [
      "['player_2']\n"
     ]
    }
   ],
   "source": [
    "# Bloc de saisie des noms des joueurs\n",
    "# player1 = input(\"Nom du premier joueur : \")\n",
    "# player2 = input(\"Nom du deuxième joueur : \")\n",
    "# player1 = \"Rafael Nadal\"\n",
    "# player2 = \"Roger Federer\"\n",
    "\n",
    "# Encodage des variables pour les joueurs\n",
    "# surface = input(\"Surface du match (ex: hard, clay, grass) : \")\n",
    "# surface = \"Clay\"\n",
    "# tourney_level = input(\"Niveau du tournoi (ex: G, M, A) : \")\n",
    "# tourney_level = \"G\"\n",
    "# surface_enc = lencoder.transform([surface])[0]\n",
    "# tourney_level_enc = lencoder.fit_transform([tourney_level]).reshape(1,-1)\n",
    "\n",
    "\n",
    "surface_inp = 0\n",
    "tourney_level_inp = 3\n",
    "player_1_inp = 1\n",
    "player_2_inp = 1124\n",
    "\n",
    "\n",
    "# surface_inp = lencoder.transform([surface_inp])[0]\n",
    "# tourney_level_inp = lencoder.transform([tourney_level_inp])[0]\n",
    "# player_1_inp = lencoder.transform([player_1_inp])[0]\n",
    "# player_2_inp = lencoder.transform([player_2_inp])[0]\n",
    "\n",
    "\n",
    "z = np.array([surface_inp, tourney_level_inp, player_1_inp, player_2_inp]).reshape(1, -1)\n",
    "y_pred = model.predict(z)\n",
    "print(y_pred)"
   ]
  },
  {
   "cell_type": "code",
   "execution_count": 128,
   "metadata": {},
   "outputs": [
    {
     "name": "stdout",
     "output_type": "stream",
     "text": [
      "Clay\n"
     ]
    }
   ],
   "source": [
    "print(surface_inp)"
   ]
  },
  {
   "cell_type": "code",
   "execution_count": 99,
   "metadata": {},
   "outputs": [
    {
     "data": {
      "text/plain": [
       "array([[0]], dtype=int64)"
      ]
     },
     "execution_count": 99,
     "metadata": {},
     "output_type": "execute_result"
    }
   ],
   "source": [
    "tourney_level_enc"
   ]
  },
  {
   "cell_type": "code",
   "execution_count": 97,
   "metadata": {},
   "outputs": [
    {
     "data": {
      "text/plain": [
       "array([0], dtype=int64)"
      ]
     },
     "execution_count": 97,
     "metadata": {},
     "output_type": "execute_result"
    }
   ],
   "source": [
    "surface_enc"
   ]
  },
  {
   "cell_type": "code",
   "execution_count": 111,
   "metadata": {},
   "outputs": [
    {
     "name": "stdout",
     "output_type": "stream",
     "text": [
      "score d'exactitude (accuracy) sur l'ensemble d'entraînement : 0.50656\n",
      "score d'exactitude (accuracy) sur l'ensemble de test : 0.49792\n"
     ]
    }
   ],
   "source": [
    "print(\"score d'exactitude (accuracy) sur l'ensemble d'entraînement :\",model.score(X_train, y_train))\n",
    "print(\"score d'exactitude (accuracy) sur l'ensemble de test :\",model.score(X_test, y_test))"
   ]
  },
  {
   "cell_type": "code",
   "execution_count": 102,
   "metadata": {},
   "outputs": [
    {
     "data": {
      "text/html": [
       "<div>\n",
       "<style scoped>\n",
       "    .dataframe tbody tr th:only-of-type {\n",
       "        vertical-align: middle;\n",
       "    }\n",
       "\n",
       "    .dataframe tbody tr th {\n",
       "        vertical-align: top;\n",
       "    }\n",
       "\n",
       "    .dataframe thead th {\n",
       "        text-align: right;\n",
       "    }\n",
       "</style>\n",
       "<table border=\"1\" class=\"dataframe\">\n",
       "  <thead>\n",
       "    <tr style=\"text-align: right;\">\n",
       "      <th></th>\n",
       "      <th>player_1 PREDICTED</th>\n",
       "      <th>player_2 PREDICTED</th>\n",
       "    </tr>\n",
       "  </thead>\n",
       "  <tbody>\n",
       "    <tr>\n",
       "      <th>player_1 ACTUAL</th>\n",
       "      <td>749</td>\n",
       "      <td>5467</td>\n",
       "    </tr>\n",
       "    <tr>\n",
       "      <th>player_2 ACTUAL</th>\n",
       "      <td>809</td>\n",
       "      <td>5475</td>\n",
       "    </tr>\n",
       "  </tbody>\n",
       "</table>\n",
       "</div>"
      ],
      "text/plain": [
       "                 player_1 PREDICTED  player_2 PREDICTED\n",
       "player_1 ACTUAL                 749                5467\n",
       "player_2 ACTUAL                 809                5475"
      ]
     },
     "execution_count": 102,
     "metadata": {},
     "output_type": "execute_result"
    }
   ],
   "source": [
    "from sklearn.metrics import confusion_matrix\n",
    "pd.DataFrame(data = confusion_matrix(y_true = y_test, y_pred = model.predict(X_test)),\n",
    "             index = model.classes_ + \" ACTUAL\",\n",
    "             columns = model.classes_ + \" PREDICTED\")"
   ]
  },
  {
   "cell_type": "code",
   "execution_count": 106,
   "metadata": {},
   "outputs": [
    {
     "name": "stdout",
     "output_type": "stream",
     "text": [
      "Meilleurs paramètres: {'C': 0.1, 'penalty': 'l2', 'solver': 'liblinear'}\n",
      "Score de précision: 0.5072000000000001\n"
     ]
    }
   ],
   "source": [
    "from sklearn.model_selection import GridSearchCV\n",
    "\n",
    "# Définir les valeurs de paramètres à tester\n",
    "param_grid = {'C': [0.1, 1, 10],\n",
    "              'penalty': ['l1', 'l2'],\n",
    "              'solver': ['liblinear', 'saga']}\n",
    "# gs_params = {'C': 10**np.linspace(-2, 2, 26)}\n",
    "\n",
    "grid_search = GridSearchCV(model, param_grid=param_grid, cv=5)\n",
    "grid_search.fit(X_train, y_train)\n",
    "\n",
    "\n",
    "# Afficher les meilleurs paramètres et le score de précision\n",
    "print(\"Meilleurs paramètres:\", grid_search.best_params_)\n",
    "print(\"Score de précision:\", grid_search.best_score_)"
   ]
  },
  {
   "cell_type": "markdown",
   "metadata": {},
   "source": [
    "## ANCIEN CODE THEO ARCHIVE"
   ]
  },
  {
   "cell_type": "code",
   "execution_count": 20,
   "metadata": {},
   "outputs": [
    {
     "name": "stderr",
     "output_type": "stream",
     "text": [
      "c:\\Users\\theob\\anaconda3\\lib\\site-packages\\sklearn\\base.py:450: UserWarning: X does not have valid feature names, but StandardScaler was fitted with feature names\n",
      "  warnings.warn(\n",
      "c:\\Users\\theob\\anaconda3\\lib\\site-packages\\sklearn\\base.py:450: UserWarning: X does not have valid feature names, but StandardScaler was fitted with feature names\n",
      "  warnings.warn(\n"
     ]
    },
    {
     "name": "stdout",
     "output_type": "stream",
     "text": [
      "Le gagnant prédit est :  1018\n"
     ]
    }
   ],
   "source": [
    "player1_data = 356 \n",
    "player2_data = 267\n",
    "\n",
    "# Prédiction\n",
    "player1_data = np.array([1, 2, 3, 4, 5, 6, 7, 8, 9]).reshape(1, -1)\n",
    "player2_data = np.array([2, 3, 4, 5, 6, 7, 8, 9, 10]).reshape(1, -1)\n",
    "player1_data = scaler.transform(player1_data)\n",
    "player2_data = scaler.transform(player2_data)\n",
    "winner = nb.predict(np.concatenate([player1_data, player2_data]))\n",
    "\n",
    "print(\"Le gagnant prédit est : \", winner[0])"
   ]
  },
  {
   "cell_type": "code",
   "execution_count": 31,
   "metadata": {},
   "outputs": [
    {
     "data": {
      "text/html": [
       "<div>\n",
       "<style scoped>\n",
       "    .dataframe tbody tr th:only-of-type {\n",
       "        vertical-align: middle;\n",
       "    }\n",
       "\n",
       "    .dataframe tbody tr th {\n",
       "        vertical-align: top;\n",
       "    }\n",
       "\n",
       "    .dataframe thead th {\n",
       "        text-align: right;\n",
       "    }\n",
       "</style>\n",
       "<table border=\"1\" class=\"dataframe\">\n",
       "  <thead>\n",
       "    <tr style=\"text-align: right;\">\n",
       "      <th></th>\n",
       "      <th>surface</th>\n",
       "      <th>draw_size</th>\n",
       "      <th>tourney_date</th>\n",
       "      <th>winner_id</th>\n",
       "      <th>winner_name</th>\n",
       "      <th>winner_ht</th>\n",
       "      <th>winner_age</th>\n",
       "      <th>loser_id</th>\n",
       "      <th>loser_ht</th>\n",
       "      <th>loser_age</th>\n",
       "      <th>best_of</th>\n",
       "      <th>minutes</th>\n",
       "      <th>w_ace</th>\n",
       "    </tr>\n",
       "  </thead>\n",
       "  <tbody>\n",
       "    <tr>\n",
       "      <th>135216</th>\n",
       "      <td>Clay</td>\n",
       "      <td>32</td>\n",
       "      <td>20040913</td>\n",
       "      <td>104925</td>\n",
       "      <td>Novak Djokovic</td>\n",
       "      <td>188.0</td>\n",
       "      <td>17.3</td>\n",
       "      <td>103096</td>\n",
       "      <td>173.0</td>\n",
       "      <td>26.7</td>\n",
       "      <td>3</td>\n",
       "      <td>146.0</td>\n",
       "      <td>4.0</td>\n",
       "    </tr>\n",
       "    <tr>\n",
       "      <th>135566</th>\n",
       "      <td>Carpet</td>\n",
       "      <td>4</td>\n",
       "      <td>20040409</td>\n",
       "      <td>104925</td>\n",
       "      <td>Novak Djokovic</td>\n",
       "      <td>188.0</td>\n",
       "      <td>16.8</td>\n",
       "      <td>108912</td>\n",
       "      <td>NaN</td>\n",
       "      <td>20.6</td>\n",
       "      <td>3</td>\n",
       "      <td>NaN</td>\n",
       "      <td>NaN</td>\n",
       "    </tr>\n",
       "    <tr>\n",
       "      <th>136449</th>\n",
       "      <td>Carpet</td>\n",
       "      <td>48</td>\n",
       "      <td>20051031</td>\n",
       "      <td>104925</td>\n",
       "      <td>Novak Djokovic</td>\n",
       "      <td>188.0</td>\n",
       "      <td>18.4</td>\n",
       "      <td>103812</td>\n",
       "      <td>198.0</td>\n",
       "      <td>24.2</td>\n",
       "      <td>3</td>\n",
       "      <td>19.0</td>\n",
       "      <td>1.0</td>\n",
       "    </tr>\n",
       "    <tr>\n",
       "      <th>136465</th>\n",
       "      <td>Carpet</td>\n",
       "      <td>48</td>\n",
       "      <td>20051031</td>\n",
       "      <td>104925</td>\n",
       "      <td>Novak Djokovic</td>\n",
       "      <td>188.0</td>\n",
       "      <td>18.4</td>\n",
       "      <td>103264</td>\n",
       "      <td>180.0</td>\n",
       "      <td>27.1</td>\n",
       "      <td>3</td>\n",
       "      <td>105.0</td>\n",
       "      <td>12.0</td>\n",
       "    </tr>\n",
       "    <tr>\n",
       "      <th>136537</th>\n",
       "      <td>Carpet</td>\n",
       "      <td>32</td>\n",
       "      <td>20051024</td>\n",
       "      <td>104925</td>\n",
       "      <td>Novak Djokovic</td>\n",
       "      <td>188.0</td>\n",
       "      <td>18.4</td>\n",
       "      <td>103672</td>\n",
       "      <td>175.0</td>\n",
       "      <td>24.8</td>\n",
       "      <td>3</td>\n",
       "      <td>105.0</td>\n",
       "      <td>4.0</td>\n",
       "    </tr>\n",
       "    <tr>\n",
       "      <th>...</th>\n",
       "      <td>...</td>\n",
       "      <td>...</td>\n",
       "      <td>...</td>\n",
       "      <td>...</td>\n",
       "      <td>...</td>\n",
       "      <td>...</td>\n",
       "      <td>...</td>\n",
       "      <td>...</td>\n",
       "      <td>...</td>\n",
       "      <td>...</td>\n",
       "      <td>...</td>\n",
       "      <td>...</td>\n",
       "      <td>...</td>\n",
       "    </tr>\n",
       "    <tr>\n",
       "      <th>188428</th>\n",
       "      <td>Hard</td>\n",
       "      <td>128</td>\n",
       "      <td>20230116</td>\n",
       "      <td>104925</td>\n",
       "      <td>Novak Djokovic</td>\n",
       "      <td>188.0</td>\n",
       "      <td>35.6</td>\n",
       "      <td>105777</td>\n",
       "      <td>188.0</td>\n",
       "      <td>31.6</td>\n",
       "      <td>5</td>\n",
       "      <td>187.0</td>\n",
       "      <td>11.0</td>\n",
       "    </tr>\n",
       "    <tr>\n",
       "      <th>188438</th>\n",
       "      <td>Hard</td>\n",
       "      <td>128</td>\n",
       "      <td>20230116</td>\n",
       "      <td>104925</td>\n",
       "      <td>Novak Djokovic</td>\n",
       "      <td>188.0</td>\n",
       "      <td>35.6</td>\n",
       "      <td>200282</td>\n",
       "      <td>183.0</td>\n",
       "      <td>23.9</td>\n",
       "      <td>5</td>\n",
       "      <td>126.0</td>\n",
       "      <td>4.0</td>\n",
       "    </tr>\n",
       "    <tr>\n",
       "      <th>188443</th>\n",
       "      <td>Hard</td>\n",
       "      <td>128</td>\n",
       "      <td>20230116</td>\n",
       "      <td>104925</td>\n",
       "      <td>Novak Djokovic</td>\n",
       "      <td>188.0</td>\n",
       "      <td>35.6</td>\n",
       "      <td>126094</td>\n",
       "      <td>188.0</td>\n",
       "      <td>25.2</td>\n",
       "      <td>5</td>\n",
       "      <td>123.0</td>\n",
       "      <td>14.0</td>\n",
       "    </tr>\n",
       "    <tr>\n",
       "      <th>188446</th>\n",
       "      <td>Hard</td>\n",
       "      <td>128</td>\n",
       "      <td>20230116</td>\n",
       "      <td>104925</td>\n",
       "      <td>Novak Djokovic</td>\n",
       "      <td>188.0</td>\n",
       "      <td>35.6</td>\n",
       "      <td>126205</td>\n",
       "      <td>185.0</td>\n",
       "      <td>25.6</td>\n",
       "      <td>5</td>\n",
       "      <td>140.0</td>\n",
       "      <td>12.0</td>\n",
       "    </tr>\n",
       "    <tr>\n",
       "      <th>188447</th>\n",
       "      <td>Hard</td>\n",
       "      <td>128</td>\n",
       "      <td>20230116</td>\n",
       "      <td>104925</td>\n",
       "      <td>Novak Djokovic</td>\n",
       "      <td>188.0</td>\n",
       "      <td>35.6</td>\n",
       "      <td>126774</td>\n",
       "      <td>193.0</td>\n",
       "      <td>24.4</td>\n",
       "      <td>5</td>\n",
       "      <td>176.0</td>\n",
       "      <td>7.0</td>\n",
       "    </tr>\n",
       "  </tbody>\n",
       "</table>\n",
       "<p>1057 rows × 13 columns</p>\n",
       "</div>"
      ],
      "text/plain": [
       "       surface  draw_size  tourney_date  winner_id     winner_name  winner_ht  \\\n",
       "135216    Clay         32      20040913     104925  Novak Djokovic      188.0   \n",
       "135566  Carpet          4      20040409     104925  Novak Djokovic      188.0   \n",
       "136449  Carpet         48      20051031     104925  Novak Djokovic      188.0   \n",
       "136465  Carpet         48      20051031     104925  Novak Djokovic      188.0   \n",
       "136537  Carpet         32      20051024     104925  Novak Djokovic      188.0   \n",
       "...        ...        ...           ...        ...             ...        ...   \n",
       "188428    Hard        128      20230116     104925  Novak Djokovic      188.0   \n",
       "188438    Hard        128      20230116     104925  Novak Djokovic      188.0   \n",
       "188443    Hard        128      20230116     104925  Novak Djokovic      188.0   \n",
       "188446    Hard        128      20230116     104925  Novak Djokovic      188.0   \n",
       "188447    Hard        128      20230116     104925  Novak Djokovic      188.0   \n",
       "\n",
       "        winner_age  loser_id  loser_ht  loser_age  best_of  minutes  w_ace  \n",
       "135216        17.3    103096     173.0       26.7        3    146.0    4.0  \n",
       "135566        16.8    108912       NaN       20.6        3      NaN    NaN  \n",
       "136449        18.4    103812     198.0       24.2        3     19.0    1.0  \n",
       "136465        18.4    103264     180.0       27.1        3    105.0   12.0  \n",
       "136537        18.4    103672     175.0       24.8        3    105.0    4.0  \n",
       "...            ...       ...       ...        ...      ...      ...    ...  \n",
       "188428        35.6    105777     188.0       31.6        5    187.0   11.0  \n",
       "188438        35.6    200282     183.0       23.9        5    126.0    4.0  \n",
       "188443        35.6    126094     188.0       25.2        5    123.0   14.0  \n",
       "188446        35.6    126205     185.0       25.6        5    140.0   12.0  \n",
       "188447        35.6    126774     193.0       24.4        5    176.0    7.0  \n",
       "\n",
       "[1057 rows x 13 columns]"
      ]
     },
     "execution_count": 31,
     "metadata": {},
     "output_type": "execute_result"
    }
   ],
   "source": [
    "ok=df[df['winner_name'].str.contains(\"Djo\")]\n",
    "ok\n"
   ]
  },
  {
   "cell_type": "code",
   "execution_count": 2,
   "metadata": {},
   "outputs": [],
   "source": [
    "import pandas as pd\n",
    "dg=pd.read_csv(\"C:\\\\Users\\\\theob\\\\Desktop\\\\Wild\\\\P3\\\\bdd_tennis_single_concat.csv\",usecols=[\"winner_id\",\"loser_id\",\"surface\",\"winner_name\",\"draw_size\", \"tourney_date\", \"winner_age\", \"winner_ht\",\"loser_age\", \"loser_ht\", \"best_of\", \"minutes\", \"w_ace\"])\n",
    "\n",
    "de=dg[dg['winner_name']== 'Roger Federer']['winner_id']\n",
    "\n",
    "# id Nadal =104775\n",
    "#id Federer= 103819\n",
    "\n"
   ]
  },
  {
   "cell_type": "code",
   "execution_count": 4,
   "metadata": {},
   "outputs": [
    {
     "name": "stdout",
     "output_type": "stream",
     "text": [
      "100644\n",
      "J1= 0\n",
      "Le gagnant prédit est :  Alexander Zverev\n"
     ]
    },
    {
     "name": "stderr",
     "output_type": "stream",
     "text": [
      "C:\\Users\\theob\\AppData\\Local\\Temp\\ipykernel_776\\3026058377.py:39: FutureWarning: Dropping of nuisance columns in DataFrame reductions (with 'numeric_only=None') is deprecated; in a future version this will raise TypeError.  Select only valid columns before calling the reduction.\n",
      "  data = data.fillna(data.mean())\n"
     ]
    }
   ],
   "source": [
    "from sklearn.preprocessing import LabelEncoder, StandardScaler\n",
    "from sklearn.naive_bayes import GaussianNB\n",
    "from sklearn.preprocessing import StandardScaler\n",
    "from sklearn.metrics import accuracy_score, recall_score, f1_score\n",
    "import pandas as pd\n",
    "import numpy as np\n",
    "from sklearn.model_selection import train_test_split\n",
    "df=pd.read_csv(\"C:\\\\Users\\\\theob\\\\Desktop\\\\Wild\\\\P3\\\\bdd_tennis_single_concat.csv\",usecols=[\"winner_id\",\"loser_id\",\"surface\",\"winner_name\",\"draw_size\", \"tourney_date\", \"winner_age\", \"winner_ht\",\"loser_age\", \"loser_ht\", \"best_of\", \"minutes\", \"w_ace\"])\n",
    "\n",
    "player1 = \"Alexander Zverev\"\n",
    "player2 = \"Novak Djokovic\"\n",
    "scaler = StandardScaler()\n",
    "data = pd.read_csv(\n",
    "    \"C:\\\\Users\\\\theob\\\\Desktop\\\\Wild\\\\P3\\\\bdd_tennis_single_concat.csv\",\n",
    "    usecols=[\n",
    "        \"winner_id\",\n",
    "        \"loser_id\",\n",
    "        \"surface\",\n",
    "        \"winner_name\",\n",
    "        \"loser_name\",\n",
    "        \"draw_size\",\n",
    "        \"tourney_date\",\n",
    "        \"winner_age\",\n",
    "        \"winner_ht\",\n",
    "        \"loser_age\",\n",
    "        \"loser_ht\",\n",
    "        \"best_of\",\n",
    "        \"minutes\",\n",
    "        \"w_ace\",\n",
    "    ],\n",
    ")\n",
    "data = data[\n",
    "    ((data[\"winner_name\"] == player1) & (data[\"loser_name\"] == player2))\n",
    "    | ((data[\"winner_name\"] == player2) & (data[\"loser_name\"] == player1))\n",
    "]\n",
    "le = LabelEncoder()\n",
    "data[\"surface\"] = le.fit_transform(data[\"surface\"])\n",
    "data[\"winner_name\"] = le.fit_transform(data[\"winner_name\"])\n",
    "data = data.fillna(data.mean())\n",
    "\n",
    "matches = data\n",
    "if matches.empty:\n",
    "    print(f\"No matches found between {player1} and {player2}.\")\n",
    "    exit()\n",
    "\n",
    "id_j1=df[df['winner_name']== player1]['winner_id'].values[0]\n",
    "id_j2=df[df['winner_name']== player2]['winner_id'].values[0]\n",
    "print(\"idJ1=\",id_j1)\n",
    "print(\"idJ2=\",id_j2)\n",
    "#FEDERER= 103819\n",
    "#Nadal= 104745\n",
    "\n",
    "X_matches = matches[\n",
    "    [\"draw_size\", \"surface\", \"tourney_date\", \"winner_age\", \"winner_ht\", \"loser_age\", \"loser_ht\", \"minutes\", \"w_ace\"]\n",
    "]\n",
    "y_matches = matches[\"winner_name\"]\n",
    "\n",
    "\n",
    "scaler.fit(X_matches)\n",
    "X_matches = scaler.transform(X_matches)\n",
    "nb = GaussianNB()\n",
    "nb.fit(X_matches, y_matches)\n",
    "\n",
    "J1= data[data['winner_id']== id_j1]['winner_name'].values[0]\n",
    "print(\"J1=\",J1)\n",
    "J2= data[data['winner_id']== id_j2]['winner_name'].values[0]\n",
    "print(\"J2=\",J2)\n",
    "\n",
    "player1_data = data.loc[data[\"winner_name\"] == J1]\n",
    "if player1_data.empty:\n",
    "    print(f\"Le joueur {player1} n'a pas été trouvé dans la base de données.\")\n",
    "    exit()\n",
    "player1_data = player1_data[\n",
    "    [\n",
    "        \"draw_size\",\n",
    "        \"surface\",\n",
    "        \"tourney_date\",\n",
    "        \"winner_age\",\n",
    "        \"winner_ht\",\n",
    "        \"loser_age\",\n",
    "        \"loser_ht\",\n",
    "        \"minutes\",\n",
    "        \"w_ace\",\n",
    "    ]\n",
    "]\n",
    "\n",
    "# Rechercher les données du joueur 2 dans le dataframe\n",
    "\n",
    "player2_data = data.loc[data['winner_name'] == J2]\n",
    "if player2_data.empty:\n",
    "    print(f\"Le joueur {player2} n'a pas été trouvé dans la base de données.\")\n",
    "    exit()\n",
    "player2_data = player2_data[[\"draw_size\", \"surface\", \"tourney_date\", \"winner_age\", \"winner_ht\", \"loser_age\", \"loser_ht\", \"minutes\", \"w_ace\"]]\n",
    "\n",
    "\n",
    "player1_data = scaler.transform(player1_data)\n",
    "player2_data = scaler.transform(player2_data)\n",
    "# Prédiction\n",
    "winner = nb.predict(np.concatenate([player1_data, player2_data]))\n",
    "print(\"Le gagnant prédit est : \", le.inverse_transform(winner)[0])\n"
   ]
  },
  {
   "cell_type": "code",
   "execution_count": null,
   "metadata": {},
   "outputs": [],
   "source": []
  },
  {
   "cell_type": "code",
   "execution_count": 89,
   "metadata": {},
   "outputs": [
    {
     "data": {
      "text/plain": [
       "Rafael Nadal           112\n",
       "Novak Djokovic          86\n",
       "Roger Federer           73\n",
       "Guillermo Vilas         58\n",
       "Ivan Lendl              53\n",
       "                      ... \n",
       "Mark Knowles             1\n",
       "Zan Guerry               1\n",
       "Frederik Fetterlein      1\n",
       "Donald Johnson           1\n",
       "Ilya Ivashka             1\n",
       "Name: winner_name, Length: 1037, dtype: int64"
      ]
     },
     "execution_count": 89,
     "metadata": {},
     "output_type": "execute_result"
    }
   ],
   "source": [
    "#joueurs ayant le plus de victoire à Rolland-Garros\n",
    "df[df.tourney_name.str.contains(\"arros\")]['winner_name'].value_counts()"
   ]
  },
  {
   "cell_type": "code",
   "execution_count": 90,
   "metadata": {},
   "outputs": [
    {
     "data": {
      "text/plain": [
       "Roger Federer        194\n",
       "Jimmy Connors        174\n",
       "John Newcombe        162\n",
       "Phil Dent            158\n",
       "Stan Smith           154\n",
       "                    ... \n",
       "Fernando Meligeni      1\n",
       "A Jackson              1\n",
       "A Ferguson             1\n",
       "German Puentes         1\n",
       "Yuki Bhambri           1\n",
       "Name: winner_name, Length: 1700, dtype: int64"
      ]
     },
     "execution_count": 90,
     "metadata": {},
     "output_type": "execute_result"
    }
   ],
   "source": [
    "# Le plus de Victoire sur terrain GRASS\n",
    "df[df['surface']== 'Grass']['winner_name'].value_counts()"
   ]
  },
  {
   "cell_type": "code",
   "execution_count": 91,
   "metadata": {},
   "outputs": [
    {
     "data": {
      "text/html": [
       "<div>\n",
       "<style scoped>\n",
       "    .dataframe tbody tr th:only-of-type {\n",
       "        vertical-align: middle;\n",
       "    }\n",
       "\n",
       "    .dataframe tbody tr th {\n",
       "        vertical-align: top;\n",
       "    }\n",
       "\n",
       "    .dataframe thead th {\n",
       "        text-align: right;\n",
       "    }\n",
       "</style>\n",
       "<table border=\"1\" class=\"dataframe\">\n",
       "  <thead>\n",
       "    <tr style=\"text-align: right;\">\n",
       "      <th></th>\n",
       "      <th>winner_age</th>\n",
       "      <th>tourney_name</th>\n",
       "    </tr>\n",
       "  </thead>\n",
       "  <tbody>\n",
       "    <tr>\n",
       "      <th>115478</th>\n",
       "      <td>17.1</td>\n",
       "      <td>Toulouse</td>\n",
       "    </tr>\n",
       "    <tr>\n",
       "      <th>115487</th>\n",
       "      <td>17.1</td>\n",
       "      <td>Toulouse</td>\n",
       "    </tr>\n",
       "    <tr>\n",
       "      <th>116234</th>\n",
       "      <td>17.4</td>\n",
       "      <td>Marseille</td>\n",
       "    </tr>\n",
       "    <tr>\n",
       "      <th>116250</th>\n",
       "      <td>17.4</td>\n",
       "      <td>Marseille</td>\n",
       "    </tr>\n",
       "    <tr>\n",
       "      <th>116462</th>\n",
       "      <td>17.5</td>\n",
       "      <td>Rotterdam</td>\n",
       "    </tr>\n",
       "    <tr>\n",
       "      <th>...</th>\n",
       "      <td>...</td>\n",
       "      <td>...</td>\n",
       "    </tr>\n",
       "    <tr>\n",
       "      <th>184035</th>\n",
       "      <td>39.8</td>\n",
       "      <td>Roland Garros</td>\n",
       "    </tr>\n",
       "    <tr>\n",
       "      <th>184111</th>\n",
       "      <td>39.8</td>\n",
       "      <td>Wimbledon</td>\n",
       "    </tr>\n",
       "    <tr>\n",
       "      <th>184151</th>\n",
       "      <td>39.8</td>\n",
       "      <td>Wimbledon</td>\n",
       "    </tr>\n",
       "    <tr>\n",
       "      <th>184171</th>\n",
       "      <td>39.8</td>\n",
       "      <td>Wimbledon</td>\n",
       "    </tr>\n",
       "    <tr>\n",
       "      <th>184181</th>\n",
       "      <td>39.8</td>\n",
       "      <td>Wimbledon</td>\n",
       "    </tr>\n",
       "  </tbody>\n",
       "</table>\n",
       "<p>1265 rows × 2 columns</p>\n",
       "</div>"
      ],
      "text/plain": [
       "        winner_age   tourney_name\n",
       "115478        17.1       Toulouse\n",
       "115487        17.1       Toulouse\n",
       "116234        17.4      Marseille\n",
       "116250        17.4      Marseille\n",
       "116462        17.5      Rotterdam\n",
       "...            ...            ...\n",
       "184035        39.8  Roland Garros\n",
       "184111        39.8      Wimbledon\n",
       "184151        39.8      Wimbledon\n",
       "184171        39.8      Wimbledon\n",
       "184181        39.8      Wimbledon\n",
       "\n",
       "[1265 rows x 2 columns]"
      ]
     },
     "execution_count": 91,
     "metadata": {},
     "output_type": "execute_result"
    }
   ],
   "source": [
    "df[df['winner_name'].str.contains('Federer')][['winner_age','tourney_name']]"
   ]
  },
  {
   "cell_type": "code",
   "execution_count": 92,
   "metadata": {},
   "outputs": [
    {
     "data": {
      "text/plain": [
       "7.915481171548117"
      ]
     },
     "execution_count": 92,
     "metadata": {},
     "output_type": "execute_result"
    }
   ],
   "source": [
    "dFed=df[df['winner_name'].str.contains('Federer')]\n",
    "dFed['w_ace'].mean()"
   ]
  },
  {
   "cell_type": "code",
   "execution_count": 93,
   "metadata": {},
   "outputs": [
    {
     "data": {
      "text/plain": [
       "78.09945562948242"
      ]
     },
     "execution_count": 93,
     "metadata": {},
     "output_type": "execute_result"
    }
   ],
   "source": [
    "df[\"w_svpt\"].mean()"
   ]
  },
  {
   "cell_type": "code",
   "execution_count": 94,
   "metadata": {},
   "outputs": [
    {
     "data": {
      "text/plain": [
       "array(['R'], dtype=object)"
      ]
     },
     "execution_count": 94,
     "metadata": {},
     "output_type": "execute_result"
    }
   ],
   "source": [
    "dFed=df[df['winner_name'].str.contains('Federer')]\n",
    "dFed['winner_hand'].unique()"
   ]
  },
  {
   "cell_type": "code",
   "execution_count": 95,
   "metadata": {},
   "outputs": [
    {
     "data": {
      "text/plain": [
       "(23307, 49)"
      ]
     },
     "execution_count": 95,
     "metadata": {},
     "output_type": "execute_result"
    }
   ],
   "source": [
    "#=> Calculer le taux de victoire des droitiers contre gauchers et réciproques \n",
    "\n",
    "dg=df[(df['winner_hand']=='L') & (df['loser_hand']=='R')]\n",
    "dg.shape"
   ]
  },
  {
   "cell_type": "code",
   "execution_count": 96,
   "metadata": {},
   "outputs": [
    {
     "data": {
      "text/plain": [
       "(21301, 49)"
      ]
     },
     "execution_count": 96,
     "metadata": {},
     "output_type": "execute_result"
    }
   ],
   "source": [
    "dg=df[(df['winner_hand']=='R') & (df['loser_hand']=='L')]\n",
    "dg.shape"
   ]
  },
  {
   "cell_type": "code",
   "execution_count": 97,
   "metadata": {},
   "outputs": [
    {
     "data": {
      "text/plain": [
       "array([185.])"
      ]
     },
     "execution_count": 97,
     "metadata": {},
     "output_type": "execute_result"
    }
   ],
   "source": [
    "de=df[df['winner_name'].str.contains(\"Federer\")][\"winner_ht\"].unique()\n",
    "de"
   ]
  },
  {
   "cell_type": "code",
   "execution_count": 98,
   "metadata": {},
   "outputs": [
    {
     "data": {
      "text/plain": [
       "185.0    24660\n",
       "183.0    24152\n",
       "188.0    21800\n",
       "180.0    20715\n",
       "190.0    14080\n",
       "178.0    13040\n",
       "193.0    10399\n",
       "175.0     9785\n",
       "173.0     5904\n",
       "196.0     4830\n",
       "170.0     2922\n",
       "198.0     2475\n",
       "191.0     1165\n",
       "201.0      902\n",
       "168.0      700\n",
       "203.0      627\n",
       "172.0      375\n",
       "208.0      346\n",
       "206.0      309\n",
       "181.0      164\n",
       "163.0      118\n",
       "194.0       99\n",
       "211.0       84\n",
       "186.0       68\n",
       "174.0       33\n",
       "160.0       30\n",
       "179.0       25\n",
       "165.0       21\n",
       "176.0       11\n",
       "189.0       10\n",
       "182.0        5\n",
       "Name: loser_ht, dtype: int64"
      ]
     },
     "execution_count": 98,
     "metadata": {},
     "output_type": "execute_result"
    }
   ],
   "source": [
    "dt=df['loser_ht'].value_counts()\n",
    "dt"
   ]
  },
  {
   "cell_type": "code",
   "execution_count": 99,
   "metadata": {},
   "outputs": [
    {
     "data": {
      "text/plain": [
       "array([3, 5, 1], dtype=int64)"
      ]
     },
     "execution_count": 99,
     "metadata": {},
     "output_type": "execute_result"
    }
   ],
   "source": [
    "df['best_of'].unique()"
   ]
  },
  {
   "cell_type": "code",
   "execution_count": 100,
   "metadata": {},
   "outputs": [
    {
     "data": {
      "text/plain": [
       "array(['R32', 'R16', 'QF', 'SF', 'F', 'R64', 'R128', 'RR', 'BR', 'ER'],\n",
       "      dtype=object)"
      ]
     },
     "execution_count": 100,
     "metadata": {},
     "output_type": "execute_result"
    }
   ],
   "source": [
    "df['round'].unique()"
   ]
  },
  {
   "cell_type": "code",
   "execution_count": 101,
   "metadata": {},
   "outputs": [
    {
     "data": {
      "text/plain": [
       "array([ 32,  16,  64, 128,  96,   4,   8,   6,  10,   5,   9,   7,  24,\n",
       "        48,  12,   2,  56,  28,  18], dtype=int64)"
      ]
     },
     "execution_count": 101,
     "metadata": {},
     "output_type": "execute_result"
    }
   ],
   "source": [
    "df['draw_size'].unique()"
   ]
  },
  {
   "cell_type": "code",
   "execution_count": 102,
   "metadata": {},
   "outputs": [
    {
     "data": {
      "text/plain": [
       "USA    39022\n",
       "ESP    15564\n",
       "AUS    15008\n",
       "FRA    11867\n",
       "GER     9085\n",
       "       ...  \n",
       "UAE        2\n",
       "TJK        1\n",
       "MNE        1\n",
       "GUM        1\n",
       "RHO        1\n",
       "Name: winner_ioc, Length: 128, dtype: int64"
      ]
     },
     "execution_count": 102,
     "metadata": {},
     "output_type": "execute_result"
    }
   ],
   "source": [
    "df['winner_ioc'].value_counts()"
   ]
  },
  {
   "cell_type": "code",
   "execution_count": 112,
   "metadata": {},
   "outputs": [
    {
     "ename": "TypeError",
     "evalue": "unsupported operand type(s) for *: 'method' and 'float'",
     "output_type": "error",
     "traceback": [
      "\u001b[1;31m---------------------------------------------------------------------------\u001b[0m",
      "\u001b[1;31mTypeError\u001b[0m                                 Traceback (most recent call last)",
      "Cell \u001b[1;32mIn[112], line 3\u001b[0m\n\u001b[0;32m      1\u001b[0m \u001b[39m#df['winner_age']= df['winner_age'].dropna()\u001b[39;00m\n\u001b[1;32m----> 3\u001b[0m df[\u001b[39m'\u001b[39;49m\u001b[39mwinner_age\u001b[39;49m\u001b[39m'\u001b[39;49m]\u001b[39m.\u001b[39;49mround(\u001b[39m1\u001b[39;49m) \u001b[39m# arrondir la colonne à 1 décimale\u001b[39;00m\n\u001b[0;32m      4\u001b[0m df[\u001b[39m'\u001b[39m\u001b[39mwinner_age\u001b[39m\u001b[39m'\u001b[39m]\u001b[39m.\u001b[39mvalue_counts()\n",
      "File \u001b[1;32mc:\\Python311\\Lib\\site-packages\\pandas\\core\\series.py:2602\u001b[0m, in \u001b[0;36mSeries.round\u001b[1;34m(self, decimals, *args, **kwargs)\u001b[0m\n\u001b[0;32m   2570\u001b[0m \u001b[39m\u001b[39m\u001b[39m\"\"\"\u001b[39;00m\n\u001b[0;32m   2571\u001b[0m \u001b[39mRound each value in a Series to the given number of decimals.\u001b[39;00m\n\u001b[0;32m   2572\u001b[0m \n\u001b[1;32m   (...)\u001b[0m\n\u001b[0;32m   2599\u001b[0m \u001b[39mdtype: float64\u001b[39;00m\n\u001b[0;32m   2600\u001b[0m \u001b[39m\"\"\"\u001b[39;00m\n\u001b[0;32m   2601\u001b[0m nv\u001b[39m.\u001b[39mvalidate_round(args, kwargs)\n\u001b[1;32m-> 2602\u001b[0m result \u001b[39m=\u001b[39m \u001b[39mself\u001b[39;49m\u001b[39m.\u001b[39;49m_values\u001b[39m.\u001b[39;49mround(decimals)\n\u001b[0;32m   2603\u001b[0m result \u001b[39m=\u001b[39m \u001b[39mself\u001b[39m\u001b[39m.\u001b[39m_constructor(result, index\u001b[39m=\u001b[39m\u001b[39mself\u001b[39m\u001b[39m.\u001b[39mindex)\u001b[39m.\u001b[39m__finalize__(\n\u001b[0;32m   2604\u001b[0m     \u001b[39mself\u001b[39m, method\u001b[39m=\u001b[39m\u001b[39m\"\u001b[39m\u001b[39mround\u001b[39m\u001b[39m\"\u001b[39m\n\u001b[0;32m   2605\u001b[0m )\n\u001b[0;32m   2607\u001b[0m \u001b[39mreturn\u001b[39;00m result\n",
      "\u001b[1;31mTypeError\u001b[0m: unsupported operand type(s) for *: 'method' and 'float'"
     ]
    }
   ],
   "source": [
    "#df['winner_age']= df['winner_age'].dropna()\n",
    "\n",
    "df['winner_age'].round(1) # arrondir la colonne à 1 décimale\n",
    "df['winner_age'].value_counts()\n"
   ]
  },
  {
   "cell_type": "code",
   "execution_count": null,
   "metadata": {},
   "outputs": [],
   "source": []
  }
 ],
 "metadata": {
  "kernelspec": {
   "display_name": "Python 3 (ipykernel)",
   "language": "python",
   "name": "python3"
  },
  "language_info": {
   "codemirror_mode": {
    "name": "ipython",
    "version": 3
   },
   "file_extension": ".py",
   "mimetype": "text/x-python",
   "name": "python",
   "nbconvert_exporter": "python",
   "pygments_lexer": "ipython3",
   "version": "3.9.13"
  }
 },
 "nbformat": 4,
 "nbformat_minor": 2
}
