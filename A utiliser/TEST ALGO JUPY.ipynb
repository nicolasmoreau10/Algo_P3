{
 "cells": [
  {
   "cell_type": "code",
   "execution_count": 27,
   "id": "a4b37533",
   "metadata": {},
   "outputs": [
    {
     "name": "stdout",
     "output_type": "stream",
     "text": [
      "Le gagnant est Rafael Nadal\n"
     ]
    },
    {
     "name": "stderr",
     "output_type": "stream",
     "text": [
      "C:\\Users\\Administrateur\\AppData\\Local\\Temp\\ipykernel_2156\\3795091747.py:5: DtypeWarning: Columns (31,32) have mixed types. Specify dtype option on import or set low_memory=False.\n",
      "  df=pd.read_csv(\"C:\\\\Users\\\\Administrateur\\\\Projet_3\\\\Algo_P3\\\\DFBASE_V1.csv\")\n"
     ]
    }
   ],
   "source": [
    "import pandas as pd\n",
    "import numpy as np\n",
    "\n",
    "\n",
    "df=pd.read_csv(\"C:\\\\Users\\\\Administrateur\\\\Projet_3\\\\Algo_P3\\\\DFBASE_V1.csv\")\n",
    "\n",
    "\n",
    "##########################################################  SELECTION JOUEUR #########################################################  ######################################################################################################################################\n",
    "\n",
    "df_unique = df.groupby('player_1').first()\n",
    "df_unique = df.groupby('player_1')['player_1'].first()\n",
    "liste_player = df_unique.values\n",
    "\n",
    "\n",
    "# player1 = input(\"Choisissez le premier joueur\")\n",
    "# player2 = input(\"Choisissez le second joueur\")\n",
    "# choix_surfaces = input(\"Choisissez une surface\")\n",
    "\n",
    "player1 = 'Agustin Calleri'\n",
    "player2 = 'Rafael Nadal'\n",
    "choix_surfaces = 'Hard'\n",
    "\n",
    "\n",
    "#####################################################  MACHINE LEARNING ##############################################################  ######################################################################################################################################\n",
    "\n",
    "\n",
    "from sklearn.linear_model import LogisticRegression\n",
    "from sklearn.preprocessing import LabelEncoder, StandardScaler\n",
    "from sklearn.metrics import accuracy_score, recall_score, f1_score\n",
    "from sklearn.model_selection import train_test_split\n",
    "\n",
    "# Chargement du dataset contenant les features des player1s\n",
    "\n",
    "lencoder = LabelEncoder()\n",
    "\n",
    "df['surface_enc'] = lencoder.fit_transform(df['surface'])\n",
    "df['tourney_level_enc'] = lencoder.fit_transform(df['tourney_level'])\n",
    "\n",
    "if choix_surfaces == 'Toutes':\n",
    "    X = df[['player_1_surface_winrate', 'player_1_svpt', 'player_1_bpFaced', 'player_2_surface_winrate',  'player_2_svpt',  'player_2_bpFaced', 'surface_enc', 'tourney_level_enc']]\n",
    "    y = df['target']\n",
    "else :    \n",
    "    X = df[df['surface'] == choix_surfaces][['player_1_surface_winrate', 'player_1_svpt', 'player_1_bpFaced', 'player_2_surface_winrate',  'player_2_svpt',  'player_2_bpFaced', 'surface_enc', 'tourney_level_enc']]\n",
    "    y = df[df['surface'] == choix_surfaces]['target']\n",
    "    # bpFaced : number of break points faced\n",
    "    # svpt : number of serve points\n",
    "\n",
    "X_train, X_test, y_train, y_test = train_test_split(X, y, test_size=0.25, random_state=42, shuffle= True)\n",
    "\n",
    "scaler = StandardScaler()\n",
    "X_train = scaler.fit_transform(X_train)\n",
    "X_test = scaler.transform(X_test)\n",
    "\n",
    "# création du modèle\n",
    "model = LogisticRegression(C = 0.1, max_iter = 100, penalty= 'l1', solver= 'liblinear').fit(X_train,y_train)\n",
    "\n",
    "\n",
    "\n",
    "# charger le dataframe de moyennes\n",
    "\n",
    "moy_df = pd.read_csv(\"C:\\\\Users\\\\Administrateur\\\\Projet_3\\\\Algo_P3\\\\DFMOYV4.csv\")\n",
    "\n",
    "# Prédiction du gagnant\n",
    "\n",
    "\n",
    "       \n",
    "player1_features = moy_df[moy_df['Joueur'] == player1][['surface_winrate','svpt','bpFaced']]\n",
    "player2_features = moy_df[moy_df['Joueur'] == player2][['surface_winrate','svpt','bpFaced']]\n",
    "player1_array = player1_features.iloc[0].to_numpy()\n",
    "player2_array = player2_features.iloc[0].to_numpy()\n",
    "\n",
    "\n",
    "concatenated_array = np.concatenate([player1_array, player2_array, [4, 2]])\n",
    "winner = model.predict(concatenated_array.reshape(1, -1))\n",
    "\n",
    "# afficher le résultat\n",
    "if winner == player1:\n",
    "    print(f\"Le gagnant est {player1}\")\n",
    "else:\n",
    "    print(f\"Le gagnant est {player2}\")"
   ]
  },
  {
   "cell_type": "code",
   "execution_count": null,
   "id": "30f9dfc6",
   "metadata": {},
   "outputs": [],
   "source": []
  }
 ],
 "metadata": {
  "kernelspec": {
   "display_name": "Python 3 (ipykernel)",
   "language": "python",
   "name": "python3"
  },
  "language_info": {
   "codemirror_mode": {
    "name": "ipython",
    "version": 3
   },
   "file_extension": ".py",
   "mimetype": "text/x-python",
   "name": "python",
   "nbconvert_exporter": "python",
   "pygments_lexer": "ipython3",
   "version": "3.9.13"
  }
 },
 "nbformat": 4,
 "nbformat_minor": 5
}
